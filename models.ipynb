{
 "cells": [
  {
   "cell_type": "code",
   "execution_count": 1,
   "metadata": {},
   "outputs": [],
   "source": [
    "import pandas as pd\n",
    "#import gensim\n",
    "import matplotlib.pyplot as plt\n",
    "import numpy as np\n",
    "import nltk \n",
    "from nltk.corpus import stopwords\n",
    "from pprint import pprint\n",
    "from time import time\n",
    "import re\n",
    "from sklearn.model_selection import train_test_split\n",
    "from sklearn.feature_extraction.text import CountVectorizer,TfidfVectorizer \n",
    "from sklearn.metrics import accuracy_score,confusion_matrix\n",
    "from bs4 import BeautifulSoup\n",
    "from sklearn.naive_bayes import MultinomialNB\n",
    "from sklearn.pipeline import Pipeline\n",
    "from sklearn.feature_extraction.text import TfidfTransformer\n",
    "from sklearn.metrics import classification_report "
   ]
  },
  {
   "cell_type": "code",
   "execution_count": 4,
   "metadata": {},
   "outputs": [
    {
     "name": "stdout",
     "output_type": "stream",
     "text": [
      "                                                text value\n",
      "0  b'Shrub rose plant named \\xe2\\x80\\x98Noa181110...     A\n",
      "1  b'A new and distinct shrub rose cultivar, for ...     A\n",
      "2  b'Latin name of the genus and species: Variety...     A\n",
      "3  b'\\n1. A new and distinct shrub rose plant nam...     A\n",
      "4  b'Miniature rose plant named \\xe2\\x80\\x98KORpo...     A\n",
      "5  b'\\xe2\\x80\\x98KORpot060\\xe2\\x80\\x99 is a new a...     A\n",
      "6  b\"Latin name of genus and species: The Latin n...     A\n",
      "7  b'\\n1. A new and distinct variety of rose plan...     A\n",
      "8  b'Grandiflora rose plant named \\xe2\\x80\\x98WEK...     A\n",
      "9  b'A new variety of Grandiflora rose suitable f...     A\n"
     ]
    }
   ],
   "source": [
    "tags=['A','B','C','D','E','F','G','H']\n",
    "\n",
    "\n",
    "data=pd.read_csv('Desktop/internship/ipc_file1.tsv',sep='\\t')\n",
    "\n",
    "print(data.head(10))"
   ]
  },
  {
   "cell_type": "code",
   "execution_count": 5,
   "metadata": {},
   "outputs": [
    {
     "name": "stdout",
     "output_type": "stream",
     "text": [
      "b'Classification: The present invention relates to a new Variety denomination: The new plant has the varietal denomination \\xe2\\x80\\x98WEKmeroro\\xe2\\x80\\x99.This invention relates to a new and distinct variety of Grandiflora Rose. It has as its seed parent the variety known as \\xe2\\x80\\x98WEKmeredoc\\xe2\\x80\\x99 (not patented) and as its pollen parent the variety known as \\xe2\\x80\\x98WEKgobnez\\xe2\\x80\\x99 (U.S. Plant Pat. No. 20,936).Among the features which distinguish the new variety from other presently available and commercial rose cultivars known to the inventor are the following combinations of characteristics: its strong citrus-like with hints of spices fragrance, its elegant flowers of fuchsia pink striped with bright white coloration, its excellent color stability throughout the life of the flowers and its abundant blooms. The plant has an upright bushy growing habit, suitable for outdoor garden decoration.Asexual reproduction of the new variety by budding as performed in Kern County and Pomona, Calif., shows that the foregoing and other distinguishing characteristics come true to form and are established and transmitted through succeeding asexual propagations. \\xe2\\x80\\x98WEKmeroro\\xe2\\x80\\x99 may be asexually propagated by cuttings, budding and grafting. The budding and grafting successfully occurred on the plant/rootstock The new rose may be distinguished from its seed parent, \\xe2\\x80\\x98WEKmeredoc\\xe2\\x80\\x99 by the following combination of characteristics: whereas \\xe2\\x80\\x98WEKmeroro\\xe2\\x80\\x99 bears double flowers (about 23 to 40 petals) of fuchsia pink striped with bright white coloration, \\xe2\\x80\\x98WEKmeredoc\\xe2\\x80\\x99 bears double flowers of light pink with darker undertones coloration with significantly lesser petalage (about 17 to 25 petals). The new variety has an upright bushy medium height growing habit (about 135 to about 200 cm. in height), whereas the seed parent has a upright bushy significantly shorter growing habit (about 90 cm. in height).The new variety may be distinguished from its pollen parent, \\xe2\\x80\\x98WEKgobnez\\xe2\\x80\\x99 by the following combination of characteristics: whereas \\xe2\\x80\\x98WEKmeroro\\xe2\\x80\\x99 bears double flowers (about 23 to 40 petals) of fuchsia pink striped with bright white coloration, \\xe2\\x80\\x98WEKgobnez\\xe2\\x80\\x99 bears double flowers of burgundy & cream striped bicolor coloration with significantly heavier petalage (about 41 to 66 petals). The new variety has an upright bushy medium height growing habit (about 135 to about 200 cm. in height), whereas the pollen parent has an upright moderately spreading shorter growing habit (about 140 to about 165 cm. in height).The closest commercially available cultivar to the new variety is the pollen parent \\xe2\\x80\\x98WEKgobnez\\xe2\\x80\\x99 (U.S. Plant Pat. No. 20,936).Throughout this specification, color references and/or values are based upon The Colour Chart of The Royal Horticultural Society (1966) except where common terms of color definition are employed.The following description is of 3 to 4 year-old rose plants of the new variety grown outdoors in Pomona, Calif. in the month of December. Phenotypic expression may vary with environmental, cultural and climatic conditions, as well as differences in conditions of light and soil.The new variety usually bears its flowers singly, sometimes in clusters of two to three per stem. Flowers may be borne in regular rounded clusters on strong short to medium length stems (about 22 to about 80 cm.). The cluster ranges from about 12.7 to about 18.3 cm. in diameter. Outdoors, the plant blooms abundantly and nearly continuously during the growing season. The flowers have a strong citrus-like with hints of spices fragrance.The peduncle is about 2.4 to about 6.1 cm. in length, of average to somewhat heavy caliper (about 0.3 to about 0.4 cm. in diameter), and usually erect. It is mostly smooth, with few stipitate glands, and very few hairs. Peduncle color is between 146C and 146B often moderately suffused, especially on the side exposed to the sun, with between 187B and 183A.Before the calyx breaks, the bud is about 1.2 to about 1.8 cm. in diameter at the widest point, about 1.8 to about 2.4 cm. in length, and pointed in shape. The surface of the bud bears between 6 to 11 foliaceous appendages with few stipitate glands and hairs, usually with slender entire foliaceous parts extending beyond the tip of the bud about \\xc2\\xbd or more of its length. Bud color is between 137C and 146B often moderately suffused, especially on the side exposed to the sun, with between 187B and 187A.The sepals are about 1.9 to about 3.7 cm. in length and about 0.8 to about 1.0 cm. in width at the widest point. The outer surface color of the sepal is between 137C and 146B often moderately suffused, especially on the side exposed to the sun, with between 187B and 187A. The outer surface of the sepal is moderately smooth and bears between 0 to 5 foliaceous appendages with few stipitate glands and hairs. The inner surface color of the sepal is near 146B broadly bordered by near 137C. After the sepals open, the inner surface color is sometimes lightly suffused, especially on the area exposed to the sun, with 187A and 187B. The inner surface of the sepal is covered with fine wooly tomentum; margins are lined with few stipitate glands and hairs.The receptacle of the flower is of somewhat short length (about 0.4 to about 0.8 cm.) and moderately thin in caliper (about 0.5 to about 0.9 cm. in diameter). The receptacle is cup-shaped in form. Its surface is smooth with few hairs and with moderately thick fleshy walls. The receptacle color is between 144A and 146A.As the petals open (after the calyx breaks), the bud is about 1.5 to about 2.4 cm. in diameter at the widest point, about 2.2 to about 2.9 cm. in length, and pointed to somewhat ovoid in form. The color of the under and upper surfaces of the newly opened petals is irregularly striped and flecked with as dark as between 60A and 57C to as light as between 155C and 155B. At the point where the petal attaches, there is a moderately small zone of between 150C and 1B.When fully open, the bloom ranges from about 7.6 to about 11.2 cm. in diameter. Petalage is double with about 23 to 40 petals and about 4 to 12 petaloids irregularly arranged. When partially open, the bloom form is moderately high centered to cupped, and the petals are loosely spiraled to cupped with petal edges somewhat reflexed outward. When fully open, the bloom form is more cupped, and the petals are loosely cupped to somewhat undulated with petal edges moderately reflexed outward.The substance of the petals is moderately heavy and of somewhat thin to medium thickness, with upper surfaces slightly satiny and under surfaces moderately shiny. The petals are about 3.6 to about 5.7 cm. in length and about 3.1 to about 5.6 cm. in width at the widest point. Petal margins are entire.The outer petals are moderately obovate to somewhat rounded in shape with rounded apices.The inner petals are broadly obovate in shape with rounded apices.Petaloids are about 0.6 to about 4.8 cm. in length and about 0.3 to about 3.6 cm. in width at the widest point. Petaloids are irregularly shaped somewhat oblanceolate to oblong with rounded apices.The under surface color of the outer, intermediate and inner petals is irregularly striped and flecked with as dark as between 64C and 61C to as light as between 155C and 155B. At the point where the petal attaches, there is a moderately small zone of between 155C and 155A. The upper surface color of the outer, intermediate and inner petals is irregularly striped and flecked with as dark as between 67B and 57C to as light as between 155C and 155B. At the point where the petal attaches, there is a moderately small zone of between 155C and 155A.The under and upper surface colors of the petaloids are similar in coloration to the upper and under surfaces of the intermediate and inner petals.The general tonality of the newly opened flower is irregularly striped and flecked with as dark as between 67B and 57C to as light as between 155C and 155B.The under surface color of the outer, intermediate and inner petals is irregularly striped and flecked with as dark as between 64C and 61C to as light as between 155C and 155B. At the point where the petal attaches, there is a moderately small zone of between 155C and 155A. The upper surface color of the outer, intermediate and inner petals is irregularly striped and flecked with as dark as between 67B and 57C to as light as between 155C and 155B. At the point where the petal attaches, there is a moderately small zone of between 155C and 155A.The under and upper surface colors of the petaloids are similar in coloration to the upper and under surfaces of the intermediate and inner petals.The general tonality of the three-day-old flower is irregularly striped and flecked with as dark as between 67B and 57C to as light as between 155C and 155B.On the spent bloom, the petals usually drop off cleanly.In December in Pomona, Calif., blooms on the bush growing outdoors generally last about four to five days. Cut roses from plants grown outdoors and kept at normal indoor living temperatures generally last about four to five days.Stamens are many in number (average about 135) and are arranged regularly about the pistils; a few are mixed with petaloids. The filaments are of somewhat short to medium length (about 0.4 to about 1.2 cm.) most with anthers. Filaments are between 1D and 154D in color sometimes lightly suffused with near 187D. The anthers are somewhat small for the class and all open approximately at the same time. Anther color when immature is near 20A on the external part and near 11D on the internal part. Anther color at maturity is near 165B on the external part and near 200A on the internal part. Pollen is moderate and between 22B and 23C in color.Pistils vary in number (average about 105). The styles are moderately even, average to somewhat long in length (about 0.7 to about 0.9 cm.), thin in caliper, and loosely bunched to somewhat separated. Stigma color is near 11C. Style color is between 154D and 1D often heavily suffused with between 53A and 53B. Ovaries are usually all enclosed in the calyx. The ovaries are of medium size and between 158B and 158C in color. Hips have not been observed on this variety when grown in Pomona, Calif.The compound leaves are usually comprised of three to seven leaflets and are borne abundantly. The five-leaflet leaves are about 9.6 to about 16.1 cm. in length and about 8.7 to about 15.4 cm. in width at the widest point, moderately crisp to somewhat leathery in texture on both sides, and glossy in finish on the upper side and slightly glossy in finish on the underside. The leaves have a pinnate venation pattern. The terminal leaflets are about 4.4 to about 8.1 cm. in length and about 3.2 to about 6.8 cm. in width at the widest point, shaped ovate to somewhat oval with acute to somewhat acuminate apices and rounded to somewhat acute bases. Their margins are usually simply serrate.The upper surface color of the mature leaf is between 139A and 147A. The under surface color of the mature leaf is between 137C and 146A. The under and upper colors of the leaf veins on the mature leaf are similar in coloration to the upper and under surfaces colors of the mature leaf. The upper surface color of the young leaf is between 137A and 146B, often heavily suffused with between 187A and 187B. The under surface color of the young leaf is near 146B, often heavily suffused with between 187B and 183A. The under and upper colors of the leaf veins on the young leaf are similar in coloration to the upper and under surfaces colors of the young leaf.The rachis is somewhat light to average in caliper and rough. The upper side is deeply grooved with few hairs and stipitate glands on the edges of the grooves. The under side of the rachis is rough with few stipitate glands and small prickles. The rachis color is near 146C on the under side and near 137A on the upper side, often moderately suffused on the young leaves with between 187B and 183A.The stipules are about 1.2 to about 2.5 cm. in length and moderately wide (about 0.5 to about 1.6 cm.) with long straight points that usually turn out at an angle of more than 45 degrees and sometimes recurve toward the stem. The under and upper surface color of the stipule is between 139A and 137A. The upper and under surfaces of the stipules are smooth in texture.The petiole is somewhat light to average in caliper and rough. The upper side is deeply grooved with few hairs and stipitate glands on the edges of the grooves. The under side of the petiole is rough with few stipitate glands and small prickles. The petiole is about 0.8 to about 1.7 cm. in length and about 0.1 to about 0.2 cm in width at the widest point. The petiole color is near 146C on the under side and near 137A on the upper side, often moderately suffused on the young leaves with between 187B and 183A.The plant displays an average degree of resistance to powdery mildew (The plant has an upright bushy medium height growing habit (about 135 to about 200 cm. in height and about 120 to about 140 cm. spread at the widest point), with full branching. It displays vigorous growth and the canes are of somewhat light to medium caliper for the class (about 1.2 to about 2.3 cm. in diameter at the widest point).The color of the major stems is between 146A and 137C. The major stems are rough in texture and they bear many large prickles that are about 0.6 to about 1.2 cm. in length. The large prickles are angled slightly downward to somewhat hooked with a short somewhat broad oval base; prickle color is between 165A and 200D sometimes lightly suffused with between 201B and 201C. The major stem bears few small prickles of similar shape and coloration.The color of the branches is between 146A and 147A. The branches are rough in texture and they bear some large prickles which are of similar size and shape to the large prickles on the major stems; prickle color is near 199A. The branches bear few small prickles of similar shape and coloration.The color of the new shoots is between 146C and 144A often moderately suffused with between 187B and 183A. The new shoots are rough in texture and they bear some large prickles which are of similar size and shape to the large prickles on the major stems; prickle color is near 146B often moderately suffused with between 187B and 187C. The shoots bear few small prickles of similar shape and coloration.'\n",
      "value: A\n"
     ]
    },
    {
     "name": "stdout",
     "output_type": "stream",
     "text": [
      "29185843\n"
     ]
    },
    {
     "data": {
      "image/png": "[encoded data removed]",
      "text/plain": [
       "<Figure size 864x288 with 1 Axes>"
      ]
     },
     "metadata": {
      "needs_background": "light"
     },
     "output_type": "display_data"
    }
   ],
   "source": [
    "#to count no of words in dataset\n",
    "def count_words():\n",
    "    print(data['text'].apply(lambda x: len(x.split(' '))).sum())\n",
    "\n",
    "\n",
    "def plot_graph():\n",
    "    plt.figure(figsize=(12,4))\n",
    "    data.value.value_counts().plot(kind='bar')\n",
    "\n",
    "plot_graph()\n",
    "\n",
    "def print_plot(index):\n",
    "    d=data[data.index==index][['text','value']].values[0]\n",
    "    if len(d)>0:\n",
    "        print(d[0])\n",
    "        print('value:',d[1])\n",
    "\n",
    "print_plot(10)\n",
    "        \n",
    "\n",
    "#no of words before cleaning\n",
    "count_words()    "
   ]
  },
  {
   "cell_type": "code",
   "execution_count": 6,
   "metadata": {},
   "outputs": [
    {
     "name": "stdout",
     "output_type": "stream",
     "text": [
      "bclassification present invention relates new variety denomination new plant varietal denomination xe2x80x98wekmeroroxe2x80x99this invention relates new distinct variety grandiflora rose seed parent variety known xe2x80x98wekmeredocxe2x80x99 patented pollen parent variety known xe2x80x98wekgobnezxe2x80x99 u plant pat 20 936 among feature distinguish new variety presently available commercial rose cultivar known inventor following combination characteristic strong citruslike hint spice fragrance elegant flower fuchsia pink striped bright white coloration excellent color stability throughout life flower abundant bloom plant upright bushy growing habit suitable outdoor garden decorationasexual reproduction new variety budding performed kern county pomona calif show foregoing distinguishing characteristic come true form established transmitted succeeding asexual propagation xe2x80x98wekmeroroxe2x80x99 may asexually propagated cutting budding grafting budding grafting successfully occurred plant rootstock new rose may distinguished seed parent xe2x80x98wekmeredocxe2x80x99 following combination characteristic whereas xe2x80x98wekmeroroxe2x80x99 bear double flower 23 40 petal fuchsia pink striped bright white coloration xe2x80x98wekmeredocxe2x80x99 bear double flower light pink darker undertone coloration significantly lesser petalage 17 25 petal new variety upright bushy medium height growing habit 135 200 cm height whereas seed parent upright bushy significantly shorter growing habit 90 cm height new variety may distinguished pollen parent xe2x80x98wekgobnezxe2x80x99 following combination characteristic whereas xe2x80x98wekmeroroxe2x80x99 bear double flower 23 40 petal fuchsia pink striped bright white coloration xe2x80x98wekgobnezxe2x80x99 bear double flower burgundy cream striped bicolor coloration significantly heavier petalage 41 66 petal new variety upright bushy medium height growing habit 135 200 cm height whereas pollen parent upright moderately spreading shorter growing habit 140 165 cm height closest commercially available cultivar new variety pollen parent xe2x80x98wekgobnezxe2x80x99 u plant pat 20 936 throughout specification color reference value based upon colour chart royal horticultural society 1966 except common term color definition employedthe following description 3 4 yearold rose plant new variety grown outdoors pomona calif month december phenotypic expression may vary environmental cultural climatic condition well difference condition light soilthe new variety usually bear flower singly sometimes cluster two three per stem flower may borne regular rounded cluster strong short medium length stem 22 80 cm cluster range 127 183 cm diameter outdoors plant bloom abundantly nearly continuously growing season flower strong citruslike hint spice fragrancethe peduncle 24 61 cm length average somewhat heavy caliper 03 04 cm diameter usually erect mostly smooth stipitate gland hair peduncle color 146c 146b often moderately suffused especially side exposed sun 187b 183abefore calyx break bud 12 18 cm diameter widest point 18 24 cm length pointed shape surface bud bear 6 11 foliaceous appendage stipitate gland hair usually slender entire foliaceous part extending beyond tip bud xc2xbd length bud color 137c 146b often moderately suffused especially side exposed sun 187b 187athe sepal 19 37 cm length 08 10 cm width widest point outer surface color sepal 137c 146b often moderately suffused especially side exposed sun 187b 187a outer surface sepal moderately smooth bear 0 5 foliaceous appendage stipitate gland hair inner surface color sepal near 146b broadly bordered near 137c sepal open inner surface color sometimes lightly suffused especially area exposed sun 187a 187b inner surface sepal covered fine wooly tomentum margin lined stipitate gland hairsthe receptacle flower somewhat short length 04 08 cm moderately thin caliper 05 09 cm diameter receptacle cupshaped form surface smooth hair moderately thick fleshy wall receptacle color 144a 146aas petal open calyx break bud 15 24 cm diameter widest point 22 29 cm length pointed somewhat ovoid form color upper surface newly opened petal irregularly striped flecked dark 60a 57c light 155c 155b point petal attache moderately small zone 150c 1bwhen fully open bloom range 76 112 cm diameter petalage double 23 40 petal 4 12 petaloids irregularly arranged partially open bloom form moderately high centered cupped petal loosely spiraled cupped petal edge somewhat reflexed outward fully open bloom form cupped petal loosely cupped somewhat undulated petal edge moderately reflexed outwardthe substance petal moderately heavy somewhat thin medium thickness upper surface slightly satiny surface moderately shiny petal 36 57 cm length 31 56 cm width widest point petal margin entirethe outer petal moderately obovate somewhat rounded shape rounded apicesthe inner petal broadly obovate shape rounded apicespetaloids 06 48 cm length 03 36 cm width widest point petaloids irregularly shaped somewhat oblanceolate oblong rounded apicesthe surface color outer intermediate inner petal irregularly striped flecked dark 64c 61c light 155c 155b point petal attache moderately small zone 155c 155a upper surface color outer intermediate inner petal irregularly striped flecked dark 67b 57c light 155c 155b point petal attache moderately small zone 155c 155athe upper surface color petaloids similar coloration upper surface intermediate inner petalsthe general tonality newly opened flower irregularly striped flecked dark 67b 57c light 155c 155bthe surface color outer intermediate inner petal irregularly striped flecked dark 64c 61c light 155c 155b point petal attache moderately small zone 155c 155a upper surface color outer intermediate inner petal irregularly striped flecked dark 67b 57c light 155c 155b point petal attache moderately small zone 155c 155athe upper surface color petaloids similar coloration upper surface intermediate inner petalsthe general tonality threedayold flower irregularly striped flecked dark 67b 57c light 155c 155bon spent bloom petal usually drop cleanlyin december pomona calif bloom bush growing outdoors generally last four five day cut rose plant grown outdoors kept normal indoor living temperature generally last four five daysstamens many number average 135 arranged regularly pistil mixed petaloids filament somewhat short medium length 04 12 cm anther filament 1d 154d color sometimes lightly suffused near 187d anther somewhat small class open approximately time anther color immature near 20a external part near 11d internal part anther color maturity near 165b external part near 200a internal part pollen moderate 22b 23c colorpistils vary number average 105 style moderately even average somewhat long length 07 09 cm thin caliper loosely bunched somewhat separated stigma color near 11c style color 154d 1d often heavily suffused 53a 53b ovary usually enclosed calyx ovary medium size 158b 158c color hip observed variety grown pomona califthe compound leaf usually comprised three seven leaflet borne abundantly fiveleaflet leaf 96 161 cm length 87 154 cm width widest point moderately crisp somewhat leathery texture side glossy finish upper side slightly glossy finish underside leaf pinnate venation pattern terminal leaflet 44 81 cm length 32 68 cm width widest point shaped ovate somewhat oval acute somewhat acuminate apex rounded somewhat acute base margin usually simply serratethe upper surface color mature leaf 139a 147a surface color mature leaf 137c 146a upper color leaf vein mature leaf similar coloration upper surface color mature leaf upper surface color young leaf 137a 146b often heavily suffused 187a 187b surface color young leaf near 146b often heavily suffused 187b 183a upper color leaf vein young leaf similar coloration upper surface color young leafthe rachis somewhat light average caliper rough upper side deeply grooved hair stipitate gland edge groove side rachis rough stipitate gland small prickle rachis color near 146c side near 137a upper side often moderately suffused young leaf 187b 183athe stipule 12 25 cm length moderately wide 05 16 cm long straight point usually turn angle 45 degree sometimes recurve toward stem upper surface color stipule 139a 137a upper surface stipule smooth texturethe petiole somewhat light average caliper rough upper side deeply grooved hair stipitate gland edge groove side petiole rough stipitate gland small prickle petiole 08 17 cm length 01 02 cm width widest point petiole color near 146c side near 137a upper side often moderately suffused young leaf 187b 183athe plant display average degree resistance powdery mildew plant upright bushy medium height growing habit 135 200 cm height 120 140 cm spread widest point full branching display vigorous growth cane somewhat light medium caliper class 12 23 cm diameter widest point color major stem 146a 137c major stem rough texture bear many large prickle 06 12 cm length large prickle angled slightly downward somewhat hooked short somewhat broad oval base prickle color 165a 200d sometimes lightly suffused 201b 201c major stem bear small prickle similar shape colorationthe color branch 146a 147a branch rough texture bear large prickle similar size shape large prickle major stem prickle color near 199a branch bear small prickle similar shape colorationthe color new shoot 146c 144a often moderately suffused 187b 183a new shoot rough texture bear large prickle similar size shape large prickle major stem prickle color near 146b often moderately suffused 187b 187c shoot bear small prickle similar shape coloration\n",
      "value: A\n"
     ]
    }
   ],
   "source": [
    "#text cleaning\n",
    "space=re.compile('[/(){}\\[\\]\\|@,;]')\n",
    "bad_symbol=re.compile('[^0-9a-zA-Z #+_]')\n",
    "StopWords=set(stopwords.words('english'))    \n",
    "#print(StopWords)       \n",
    "#print(bad_symbol) \n",
    "\n",
    "from nltk.stem import WordNetLemmatizer\n",
    "wordnet_lemmatizer = WordNetLemmatizer()\n",
    "\n",
    "\n",
    "def data_cleaner(dataset):\n",
    "    dataset=BeautifulSoup(dataset,\"lxml\").text #HTML decoding\n",
    "    dataset=dataset.lower()\n",
    "    dataset=space.sub(' ',dataset)\n",
    "    dataset=bad_symbol.sub('',dataset)\n",
    "    dataset=' '.join(wordnet_lemmatizer.lemmatize(word) for word in dataset.split() if word not in StopWords)\n",
    "    return dataset\n",
    "    \n",
    "data['text']=data['text'].apply(data_cleaner)\n",
    "\n",
    "print_plot(10)"
   ]
  },
  {
   "cell_type": "code",
   "execution_count": 7,
   "metadata": {},
   "outputs": [
    {
     "name": "stdout",
     "output_type": "stream",
     "text": [
      "17500336\n"
     ]
    }
   ],
   "source": [
    "count_words()\n",
    "\n",
    "#splitting data into training and validating dataset\n",
    "x=data.text\n",
    "y=data.value\n",
    "x_train,x_test,y_train,y_test=train_test_split(x,y,test_size=0.25,random_state=42)"
   ]
  },
  {
   "cell_type": "code",
   "execution_count": 8,
   "metadata": {},
   "outputs": [
    {
     "name": "stdout",
     "output_type": "stream",
     "text": [
      "accuracy 0.5656057161416044\n",
      "              precision    recall  f1-score   support\n",
      "\n",
      "           A       0.83      0.41      0.54       840\n",
      "           B       0.83      0.17      0.29       771\n",
      "           C       0.89      0.14      0.25       436\n",
      "           D       0.00      0.00      0.00        34\n",
      "           E       0.00      0.00      0.00       134\n",
      "           F       1.00      0.10      0.19       496\n",
      "           G       0.57      0.82      0.68      1678\n",
      "           H       0.50      0.86      0.63      1769\n",
      "\n",
      "    accuracy                           0.57      6158\n",
      "   macro avg       0.58      0.31      0.32      6158\n",
      "weighted avg       0.66      0.57      0.51      6158\n",
      "\n",
      "misclassified: 2675\n",
      "classified: 3483\n"
     ]
    },
    {
     "name": "stderr",
     "output_type": "stream",
     "text": [
      "C:\\Users\\hp\\Anaconda3\\lib\\site-packages\\sklearn\\metrics\\classification.py:1437: UndefinedMetricWarning: Precision and F-score are ill-defined and being set to 0.0 in labels with no predicted samples.\n",
      "  'precision', 'predicted', average, warn_for)\n"
     ]
    }
   ],
   "source": [
    "#Naive-Bayes\n",
    "#making a pipeline for converting dataset to a matrix of token counts\n",
    "#then transform a count matrix to a normalized tfidf representation\n",
    "#and the fitting that dataset \n",
    "processor=Pipeline([('vect',CountVectorizer()),\n",
    "                ('tranform',TfidfTransformer()),\n",
    "                ('multi',MultinomialNB())])\n",
    "    \n",
    "\n",
    "processor.fit(x_train,y_train)\n",
    "\n",
    "\n",
    "y_predict=processor.predict(x_test) \n",
    "\n",
    "#print(y_predict)\n",
    "\n",
    "print('accuracy %s' % accuracy_score(y_predict,y_test))\n",
    "print(classification_report(y_test,y_predict,target_names=tags))\n",
    "count_misclassified = (y_test != y_predict).sum()\n",
    "count_classified=(y_test==y_predict).sum()\n",
    "print(\"misclassified:\",count_misclassified)\n",
    "print(\"classified:\",count_classified)\n"
   ]
  },
  {
   "cell_type": "code",
   "execution_count": 9,
   "metadata": {},
   "outputs": [
    {
     "name": "stdout",
     "output_type": "stream",
     "text": [
      "accuracy 0.7099707697304319\n",
      "              precision    recall  f1-score   support\n",
      "\n",
      "           A       0.81      0.70      0.75       840\n",
      "           B       0.79      0.49      0.61       771\n",
      "           C       0.72      0.67      0.69       436\n",
      "           D       0.93      0.41      0.57        34\n",
      "           E       0.83      0.29      0.43       134\n",
      "           F       0.70      0.72      0.71       496\n",
      "           G       0.69      0.76      0.72      1678\n",
      "           H       0.67      0.81      0.73      1769\n",
      "\n",
      "    accuracy                           0.71      6158\n",
      "   macro avg       0.77      0.61      0.65      6158\n",
      "weighted avg       0.72      0.71      0.70      6158\n",
      "\n",
      "misclassified: 1786\n",
      "classified: 4372\n"
     ]
    }
   ],
   "source": [
    "#Linear Support Vector Machine\n",
    "\n",
    "from sklearn.linear_model import SGDClassifier\n",
    "\n",
    "processor=Pipeline([('vect',CountVectorizer()),\n",
    "                ('tranform',TfidfTransformer()),\n",
    "                ('sgd',SGDClassifier(loss='hinge',\n",
    "                penalty='l2',alpha=1e-3,random_state=42,max_iter=5,tol=None))])\n",
    "\n",
    "\n",
    "processor.fit(x_train,y_train)\n",
    "y_predict=processor.predict(x_test)\n",
    "\n",
    "print('accuracy %s' % accuracy_score(y_predict,y_test))\n",
    "print(classification_report(y_test,y_predict,target_names=tags))\n",
    "count_misclassified = (y_test != y_predict).sum()\n",
    "count_classified=(y_test==y_predict).sum()\n",
    "print(\"misclassified:\",count_misclassified)\n",
    "print(\"classified:\",count_classified)"
   ]
  },
  {
   "cell_type": "code",
   "execution_count": 10,
   "metadata": {},
   "outputs": [
    {
     "name": "stdout",
     "output_type": "stream",
     "text": [
      "accuracy 0.7190646313738227\n",
      "              precision    recall  f1-score   support\n",
      "\n",
      "           A       0.88      0.70      0.78       840\n",
      "           B       0.84      0.65      0.73       771\n",
      "           C       0.87      0.59      0.70       436\n",
      "           D       0.03      0.85      0.06        34\n",
      "           E       0.82      0.38      0.52       134\n",
      "           F       0.89      0.71      0.79       496\n",
      "           G       0.81      0.76      0.78      1678\n",
      "           H       0.83      0.78      0.81      1769\n",
      "\n",
      "    accuracy                           0.72      6158\n",
      "   macro avg       0.75      0.68      0.65      6158\n",
      "weighted avg       0.84      0.72      0.77      6158\n",
      "\n",
      "misclassified: 1730\n",
      "classified: 4428\n"
     ]
    }
   ],
   "source": [
    "#after changing loss to squared_hinge and max_iter=50 alpha=1e-5\n",
    "\n",
    "processor=Pipeline([('vect',CountVectorizer()),\n",
    "                ('tranform',TfidfTransformer()),\n",
    "                ('sgd',SGDClassifier(loss='squared_hinge',\n",
    "                penalty='l2',alpha=1e-5,random_state=42,max_iter=50,tol=None))])\n",
    "    \n",
    "    \n",
    "\n",
    "\n",
    "processor.fit(x_train,y_train)\n",
    "y_predict=processor.predict(x_test)\n",
    "\n",
    "print('accuracy %s' % accuracy_score(y_predict,y_test))\n",
    "print(classification_report(y_test,y_predict,target_names=tags))\n",
    "count_misclassified = (y_test != y_predict).sum()\n",
    "count_classified=(y_test==y_predict).sum()\n",
    "print(\"misclassified:\",count_misclassified)\n",
    "print(\"classified:\",count_classified)\n"
   ]
  },
  {
   "cell_type": "code",
   "execution_count": 11,
   "metadata": {},
   "outputs": [
    {
     "name": "stdout",
     "output_type": "stream",
     "text": [
      "accuracy 0.8262422864566418\n",
      "              precision    recall  f1-score   support\n",
      "\n",
      "           A       0.85      0.81      0.83       840\n",
      "           B       0.84      0.79      0.81       771\n",
      "           C       0.86      0.80      0.83       436\n",
      "           D       0.91      0.59      0.71        34\n",
      "           E       0.82      0.72      0.77       134\n",
      "           F       0.87      0.84      0.86       496\n",
      "           G       0.79      0.84      0.81      1678\n",
      "           H       0.82      0.85      0.84      1769\n",
      "\n",
      "    accuracy                           0.83      6158\n",
      "   macro avg       0.85      0.78      0.81      6158\n",
      "weighted avg       0.83      0.83      0.83      6158\n",
      "\n",
      "misclassified: 1070\n",
      "classified: 5088\n"
     ]
    }
   ],
   "source": [
    "#after changing loss to modified_huber and max_iter 80 ,shuffle=True\n",
    "\n",
    "processor=Pipeline([('vect',CountVectorizer()),\n",
    "                ('tranform',TfidfTransformer()),\n",
    "                ('sgd',SGDClassifier(loss='modified_huber',\n",
    "                penalty='l2',alpha=1e-5,random_state=42,max_iter=80,tol=None,shuffle=True))])\n",
    "    \n",
    "    \n",
    "\n",
    "\n",
    "processor.fit(x_train,y_train)\n",
    "y_predict=processor.predict(x_test)\n",
    "\n",
    "print('accuracy %s' % accuracy_score(y_predict,y_test))\n",
    "print(classification_report(y_test,y_predict,target_names=tags))\n",
    "count_misclassified = (y_test != y_predict).sum()\n",
    "count_classified=(y_test==y_predict).sum()\n",
    "print(\"misclassified:\",count_misclassified)\n",
    "print(\"classified:\",count_classified)\n"
   ]
  },
  {
   "cell_type": "code",
   "execution_count": 12,
   "metadata": {},
   "outputs": [
    {
     "name": "stdout",
     "output_type": "stream",
     "text": [
      "Performing random  search...\n",
      "pipeline: ['vect', 'tfidf', 'clf']\n",
      "parameters:\n",
      "{'clf__alpha': (0.0001, 1e-05, 1e-06, 1e-07, 1e-08, 1e-09),\n",
      " 'clf__loss': ('squared_hinge', 'hinge', 'modified_huber', 'log'),\n",
      " 'clf__max_iter': (40, 50, 80, 100, 120),\n",
      " 'clf__penalty': ('l1', 'l2', 'elasticnet', 'none')}\n",
      "Fitting 3 folds for each of 10 candidates, totalling 30 fits\n"
     ]
    },
    {
     "name": "stderr",
     "output_type": "stream",
     "text": [
      "C:\\Users\\hp\\Anaconda3\\lib\\site-packages\\sklearn\\model_selection\\_split.py:1978: FutureWarning: The default value of cv will change from 3 to 5 in version 0.22. Specify it explicitly to silence this warning.\n",
      "  warnings.warn(CV_WARNING, FutureWarning)\n",
      "[Parallel(n_jobs=-1)]: Using backend LokyBackend with 4 concurrent workers.\n",
      "[Parallel(n_jobs=-1)]: Done  30 out of  30 | elapsed:  6.4min finished\n"
     ]
    },
    {
     "name": "stdout",
     "output_type": "stream",
     "text": [
      "done in 401.587s\n",
      "\n",
      "Best score: 0.758\n",
      "Best parameters set:\n",
      "\tclf__alpha: 1e-09\n",
      "\tclf__loss: 'squared_hinge'\n",
      "\tclf__max_iter: 50\n",
      "\tclf__penalty: 'l2'\n"
     ]
    },
    {
     "ename": "NameError",
     "evalue": "name 'grid' is not defined",
     "output_type": "error",
     "traceback": [
      "\u001b[1;31m---------------------------------------------------------------------------\u001b[0m",
      "\u001b[1;31mNameError\u001b[0m                                 Traceback (most recent call last)",
      "\u001b[1;32m<ipython-input-12-359865012c3f>\u001b[0m in \u001b[0;36m<module>\u001b[1;34m\u001b[0m\n\u001b[0;32m     34\u001b[0m     \u001b[0mprint\u001b[0m\u001b[1;33m(\u001b[0m\u001b[1;34m\"\\t%s: %r\"\u001b[0m \u001b[1;33m%\u001b[0m \u001b[1;33m(\u001b[0m\u001b[0mparam_name\u001b[0m\u001b[1;33m,\u001b[0m \u001b[0mbest_parameters\u001b[0m\u001b[1;33m[\u001b[0m\u001b[0mparam_name\u001b[0m\u001b[1;33m]\u001b[0m\u001b[1;33m)\u001b[0m\u001b[1;33m)\u001b[0m\u001b[1;33m\u001b[0m\u001b[1;33m\u001b[0m\u001b[0m\n\u001b[0;32m     35\u001b[0m \u001b[1;33m\u001b[0m\u001b[0m\n\u001b[1;32m---> 36\u001b[1;33m \u001b[0my_predict\u001b[0m\u001b[1;33m=\u001b[0m\u001b[0mgrid\u001b[0m\u001b[1;33m.\u001b[0m\u001b[0mpredict\u001b[0m\u001b[1;33m(\u001b[0m\u001b[0mx_test\u001b[0m\u001b[1;33m)\u001b[0m\u001b[1;33m\u001b[0m\u001b[1;33m\u001b[0m\u001b[0m\n\u001b[0m\u001b[0;32m     37\u001b[0m \u001b[0mprint\u001b[0m\u001b[1;33m(\u001b[0m\u001b[1;34m'accuracy %s'\u001b[0m \u001b[1;33m%\u001b[0m \u001b[0maccuracy_score\u001b[0m\u001b[1;33m(\u001b[0m\u001b[0my_predict\u001b[0m\u001b[1;33m,\u001b[0m\u001b[0my_test\u001b[0m\u001b[1;33m)\u001b[0m\u001b[1;33m)\u001b[0m\u001b[1;33m\u001b[0m\u001b[1;33m\u001b[0m\u001b[0m\n\u001b[0;32m     38\u001b[0m \u001b[0mprint\u001b[0m\u001b[1;33m(\u001b[0m\u001b[0mclassification_report\u001b[0m\u001b[1;33m(\u001b[0m\u001b[0my_test\u001b[0m\u001b[1;33m,\u001b[0m\u001b[0my_predict\u001b[0m\u001b[1;33m,\u001b[0m\u001b[0mtarget_names\u001b[0m\u001b[1;33m=\u001b[0m\u001b[0mtags\u001b[0m\u001b[1;33m)\u001b[0m\u001b[1;33m)\u001b[0m\u001b[1;33m\u001b[0m\u001b[1;33m\u001b[0m\u001b[0m\n",
      "\u001b[1;31mNameError\u001b[0m: name 'grid' is not defined"
     ]
    }
   ],
   "source": [
    "#using random searchCV\n",
    "\n",
    "from sklearn.model_selection import RandomizedSearchCV\n",
    "\n",
    "\n",
    "pipeline = Pipeline([\n",
    "    ('vect', CountVectorizer()),\n",
    "    ('tfidf', TfidfTransformer()),\n",
    "    ('clf', SGDClassifier(shuffle=True)),\n",
    "])\n",
    "    \n",
    "\n",
    "parameters = {\n",
    "    'clf__loss':('squared_hinge','hinge','modified_huber','log'),\n",
    "    'clf__alpha': (0.0001,0.00001, 0.000001,0.0000001,0.00000001,0.000000001),\n",
    "    'clf__penalty': ('l1','l2', 'elasticnet','none'),\n",
    "    'clf__max_iter': (40,50,80,100,120),\n",
    "}\n",
    "\n",
    "rscv = RandomizedSearchCV(pipeline, parameters, n_jobs=-1, verbose=1)\n",
    "\n",
    "print(\"Performing random  search...\")\n",
    "print(\"pipeline:\", [name for name, _ in pipeline.steps])\n",
    "print(\"parameters:\")\n",
    "pprint(parameters)\n",
    "t0 = time()\n",
    "rscv.fit(x_train,y_train)\n",
    "print(\"done in %0.3fs\" % (time() - t0))\n",
    "print()\n",
    "print(\"Best score: %0.3f\" % rscv.best_score_)\n",
    "print(\"Best parameters set:\")\n",
    "best_parameters = rscv.best_estimator_.get_params()\n",
    "for param_name in sorted(parameters.keys()):\n",
    "    print(\"\\t%s: %r\" % (param_name, best_parameters[param_name])) \n",
    "\n",
    "y_predict=rscv.predict(x_test)\n",
    "print('accuracy %s' % accuracy_score(y_predict,y_test))\n",
    "print(classification_report(y_test,y_predict,target_names=tags))\n",
    "count_misclassified = (y_test != y_predict).sum()\n",
    "count_classified=(y_test==y_predict).sum()\n",
    "print(\"misclassified:\",count_misclassified)\n",
    "print(\"classified:\",count_classified)"
   ]
  },
  {
   "cell_type": "code",
   "execution_count": 13,
   "metadata": {},
   "outputs": [
    {
     "name": "stdout",
     "output_type": "stream",
     "text": [
      "accuracy 0.7957128937966872\n",
      "              precision    recall  f1-score   support\n",
      "\n",
      "           A       0.79      0.82      0.81       840\n",
      "           B       0.80      0.75      0.78       771\n",
      "           C       0.85      0.78      0.81       436\n",
      "           D       0.31      0.79      0.45        34\n",
      "           E       0.76      0.71      0.73       134\n",
      "           F       0.83      0.81      0.82       496\n",
      "           G       0.78      0.80      0.79      1678\n",
      "           H       0.82      0.81      0.81      1769\n",
      "\n",
      "    accuracy                           0.80      6158\n",
      "   macro avg       0.74      0.78      0.75      6158\n",
      "weighted avg       0.80      0.80      0.80      6158\n",
      "\n",
      "misclassified: 1258\n",
      "classified: 4900\n"
     ]
    }
   ],
   "source": [
    "\n",
    "y_predict=rscv.predict(x_test)\n",
    "print('accuracy %s' % accuracy_score(y_predict,y_test))\n",
    "print(classification_report(y_test,y_predict,target_names=tags))\n",
    "count_misclassified = (y_test != y_predict).sum()\n",
    "count_classified=(y_test==y_predict).sum()\n",
    "print(\"misclassified:\",count_misclassified)\n",
    "print(\"classified:\",count_classified)"
   ]
  },
  {
   "cell_type": "code",
   "execution_count": null,
   "metadata": {},
   "outputs": [],
   "source": []
  }
 ],
 "metadata": {
  "kernelspec": {
   "display_name": "Python 3",
   "language": "python",
   "name": "python3"
  },
  "language_info": {
   "codemirror_mode": {
    "name": "ipython",
    "version": 3
   },
   "file_extension": ".py",
   "mimetype": "text/x-python",
   "name": "python",
   "nbconvert_exporter": "python",
   "pygments_lexer": "ipython3",
   "version": "3.7.4"
  }
 },
 "nbformat": 4,
 "nbformat_minor": 2
}
